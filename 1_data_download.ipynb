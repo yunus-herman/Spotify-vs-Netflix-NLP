{
 "cells": [
  {
   "cell_type": "markdown",
   "metadata": {},
   "source": [
    "#### Import"
   ]
  },
  {
   "cell_type": "code",
   "execution_count": 59,
   "metadata": {},
   "outputs": [],
   "source": [
    "import requests\n",
    "import pandas as pd\n",
    "import numpy as np\n",
    "import time"
   ]
  },
  {
   "cell_type": "markdown",
   "metadata": {},
   "source": [
    "#### Function to get request subreddit from __api.pushshift.io__"
   ]
  },
  {
   "cell_type": "code",
   "execution_count": 60,
   "metadata": {},
   "outputs": [],
   "source": [
    "def sub_reddit(sub,btime):\n",
    "    url = 'https://api.pushshift.io/reddit/search/submission'\n",
    "    \n",
    "    params = {\n",
    "        'subreddit': sub,\n",
    "        'size' : 500,\n",
    "        'before': btime\n",
    "        }\n",
    "    res = requests.get(url,params)\n",
    "    if res.status_code == 200:\n",
    "        return res\n",
    "    else:\n",
    "        print('Just for your information, there is something wrong with the url')\n",
    "        "
   ]
  },
  {
   "cell_type": "markdown",
   "metadata": {},
   "source": [
    "#### Function to get data and save them into csv file "
   ]
  },
  {
   "cell_type": "code",
   "execution_count": 61,
   "metadata": {},
   "outputs": [],
   "source": [
    "def get_data(sub,rows):\n",
    "    btime = 1612086255  # before jan,31, 2021 \n",
    "    df_all = pd.DataFrame()\n",
    "    rows = int(rows/100)\n",
    "    for i in range (rows):\n",
    "        res = sub_reddit(sub,btime)\n",
    "        data = res.json()\n",
    "        posts = data['data'] \n",
    "        df = pd.DataFrame(posts)\n",
    "        df_all = df_all.append(df)\n",
    "        btime = df_all.iloc[[-1]]['created_utc']\n",
    "        time.sleep(.5)\n",
    "    df_all = df_all[['subreddit','selftext','title']]\n",
    "    df_all.to_csv(sub+'.csv', index = False)"
   ]
  },
  {
   "cell_type": "markdown",
   "metadata": {},
   "source": [
    "#### Call the function with two parameters: subreddit and how many rows that we want \n",
    "#### Csv file name will be (subredit name).csv in the same folder of this file"
   ]
  },
  {
   "cell_type": "code",
   "execution_count": 62,
   "metadata": {},
   "outputs": [],
   "source": [
    "get_data('spotify',10000)"
   ]
  },
  {
   "cell_type": "code",
   "execution_count": 63,
   "metadata": {},
   "outputs": [],
   "source": [
    "get_data('netflix',10000)"
   ]
  }
 ],
 "metadata": {
  "kernelspec": {
   "display_name": "Python 3",
   "language": "python",
   "name": "python3"
  },
  "language_info": {
   "codemirror_mode": {
    "name": "ipython",
    "version": 3
   },
   "file_extension": ".py",
   "mimetype": "text/x-python",
   "name": "python",
   "nbconvert_exporter": "python",
   "pygments_lexer": "ipython3",
   "version": "3.8.5"
  }
 },
 "nbformat": 4,
 "nbformat_minor": 4
}
