{
 "cells": [
  {
   "cell_type": "markdown",
   "metadata": {},
   "source": [
    "#### Import Pandas"
   ]
  },
  {
   "cell_type": "code",
   "execution_count": 141,
   "metadata": {},
   "outputs": [],
   "source": [
    "import pandas as pd"
   ]
  },
  {
   "cell_type": "markdown",
   "metadata": {},
   "source": [
    "#### Read spotify.csv and netflix.csv files"
   ]
  },
  {
   "cell_type": "code",
   "execution_count": 142,
   "metadata": {},
   "outputs": [],
   "source": [
    "spotify = pd.read_csv('spotify.csv')\n",
    "netflix = pd.read_csv('netflix.csv')"
   ]
  },
  {
   "cell_type": "markdown",
   "metadata": {},
   "source": [
    "#### Binary spotify and netflix into new column called is_spotify"
   ]
  },
  {
   "cell_type": "code",
   "execution_count": 143,
   "metadata": {},
   "outputs": [],
   "source": [
    "spotify['is_spotify'] = 1\n",
    "netflix['is_spotify'] = 0"
   ]
  },
  {
   "cell_type": "markdown",
   "metadata": {},
   "source": [
    "#### Concat those dataframe into spotify_netflix"
   ]
  },
  {
   "cell_type": "code",
   "execution_count": 144,
   "metadata": {},
   "outputs": [],
   "source": [
    "spotify_netflix = spotify.append(netflix)\n",
    "spotify_netflix = spotify_netflix[['selftext','title','is_spotify']]"
   ]
  },
  {
   "cell_type": "markdown",
   "metadata": {},
   "source": [
    "#### Remove null selftex"
   ]
  },
  {
   "cell_type": "code",
   "execution_count": 145,
   "metadata": {},
   "outputs": [],
   "source": [
    "spotify_netflix['selftext'][spotify_netflix['selftext'].isnull()] = ''"
   ]
  },
  {
   "cell_type": "markdown",
   "metadata": {},
   "source": [
    "#### remove '[remove]' in selftext"
   ]
  },
  {
   "cell_type": "code",
   "execution_count": 146,
   "metadata": {
    "collapsed": true
   },
   "outputs": [
    {
     "name": "stderr",
     "output_type": "stream",
     "text": [
      "<ipython-input-146-95e942c86408>:2: SettingWithCopyWarning: \n",
      "A value is trying to be set on a copy of a slice from a DataFrame\n",
      "\n",
      "See the caveats in the documentation: https://pandas.pydata.org/pandas-docs/stable/user_guide/indexing.html#returning-a-view-versus-a-copy\n",
      "  spotify_netflix['selftext'][spotify_netflix['selftext'] == '[removed]'] = ''\n"
     ]
    }
   ],
   "source": [
    "#remove [removed] selftext\n",
    "spotify_netflix['selftext'][spotify_netflix['selftext'] == '[removed]'] = ''"
   ]
  },
  {
   "cell_type": "markdown",
   "metadata": {},
   "source": [
    "#### Combine tittle column and selftext into text column"
   ]
  },
  {
   "cell_type": "code",
   "execution_count": 147,
   "metadata": {},
   "outputs": [],
   "source": [
    "spotify_netflix['text'] =  spotify_netflix['title'] + spotify_netflix['selftext']\n",
    "spotify_netflix = spotify_netflix[['text','is_spotify']]"
   ]
  },
  {
   "cell_type": "markdown",
   "metadata": {},
   "source": [
    "#### Drop duplicates"
   ]
  },
  {
   "cell_type": "code",
   "execution_count": 148,
   "metadata": {
    "scrolled": false
   },
   "outputs": [
    {
     "data": {
      "text/html": [
       "<div>\n",
       "<style scoped>\n",
       "    .dataframe tbody tr th:only-of-type {\n",
       "        vertical-align: middle;\n",
       "    }\n",
       "\n",
       "    .dataframe tbody tr th {\n",
       "        vertical-align: top;\n",
       "    }\n",
       "\n",
       "    .dataframe thead th {\n",
       "        text-align: right;\n",
       "    }\n",
       "</style>\n",
       "<table border=\"1\" class=\"dataframe\">\n",
       "  <thead>\n",
       "    <tr style=\"text-align: right;\">\n",
       "      <th></th>\n",
       "      <th>text</th>\n",
       "      <th>is_spotify</th>\n",
       "    </tr>\n",
       "  </thead>\n",
       "  <tbody>\n",
       "    <tr>\n",
       "      <th>0</th>\n",
       "      <td>dark mood songs, a playlist by kushal.s on Spotify</td>\n",
       "      <td>1</td>\n",
       "    </tr>\n",
       "    <tr>\n",
       "      <th>1</th>\n",
       "      <td>The Ultimate 80's Playlist!</td>\n",
       "      <td>1</td>\n",
       "    </tr>\n",
       "    <tr>\n",
       "      <th>2</th>\n",
       "      <td>Weekly Discovery – JANUARY 2021 | [ Indie, Alternative, Neo-Psychedelic, Garage Rock, New Wave]</td>\n",
       "      <td>1</td>\n",
       "    </tr>\n",
       "    <tr>\n",
       "      <th>3</th>\n",
       "      <td>The Ultimate 80's Playlist! 🤷‍♂️</td>\n",
       "      <td>1</td>\n",
       "    </tr>\n",
       "    <tr>\n",
       "      <th>4</th>\n",
       "      <td>I made a workout playlist: Gym Carries.</td>\n",
       "      <td>1</td>\n",
       "    </tr>\n",
       "    <tr>\n",
       "      <th>...</th>\n",
       "      <td>...</td>\n",
       "      <td>...</td>\n",
       "    </tr>\n",
       "    <tr>\n",
       "      <th>9993</th>\n",
       "      <td>Did they remove the inbetweeners from Australian netflix?</td>\n",
       "      <td>0</td>\n",
       "    </tr>\n",
       "    <tr>\n",
       "      <th>9996</th>\n",
       "      <td>HOW TO SELL DRUGS ONLINE FASTLOL\\n\\nHTSDOF\\n\\nResumen How to sell drugs online fast [https://youtu.be/krkrkiDaZf0](https://youtu.be/krkrkiDaZf0). (Plot) To impress his former girlfriend, a nerdy teen starts selling drugs online out of his bedroom, and soon becomes one of Europe's biggest dealers. It's one of the most popular series in Netflix.</td>\n",
       "      <td>0</td>\n",
       "    </tr>\n",
       "    <tr>\n",
       "      <th>9997</th>\n",
       "      <td>Lol</td>\n",
       "      <td>0</td>\n",
       "    </tr>\n",
       "    <tr>\n",
       "      <th>9998</th>\n",
       "      <td>I heard Netflix cancelled altered carbon, so I cancelled my netflix XD, honestly that show was mint... ugh *sad year* hate 2020</td>\n",
       "      <td>0</td>\n",
       "    </tr>\n",
       "    <tr>\n",
       "      <th>9999</th>\n",
       "      <td>Change.org To stop the cancellation of Altered Carbon</td>\n",
       "      <td>0</td>\n",
       "    </tr>\n",
       "  </tbody>\n",
       "</table>\n",
       "<p>18683 rows × 2 columns</p>\n",
       "</div>"
      ],
      "text/plain": [
       "                                                                                                                                                                                                                                                                                                                                                           text  \\\n",
       "0                                                                                                                                                                                                                                                                                                            dark mood songs, a playlist by kushal.s on Spotify   \n",
       "1                                                                                                                                                                                                                                                                                                                                   The Ultimate 80's Playlist!   \n",
       "2                                                                                                                                                                                                                                                               Weekly Discovery – JANUARY 2021 | [ Indie, Alternative, Neo-Psychedelic, Garage Rock, New Wave]   \n",
       "3                                                                                                                                                                                                                                                                                                                              The Ultimate 80's Playlist! 🤷‍♂️   \n",
       "4                                                                                                                                                                                                                                                                                                                       I made a workout playlist: Gym Carries.   \n",
       "...                                                                                                                                                                                                                                                                                                                                                         ...   \n",
       "9993                                                                                                                                                                                                                                                                                                  Did they remove the inbetweeners from Australian netflix?   \n",
       "9996  HOW TO SELL DRUGS ONLINE FASTLOL\\n\\nHTSDOF\\n\\nResumen How to sell drugs online fast [https://youtu.be/krkrkiDaZf0](https://youtu.be/krkrkiDaZf0). (Plot) To impress his former girlfriend, a nerdy teen starts selling drugs online out of his bedroom, and soon becomes one of Europe's biggest dealers. It's one of the most popular series in Netflix.   \n",
       "9997                                                                                                                                                                                                                                                                                                                                                        Lol   \n",
       "9998                                                                                                                                                                                                                            I heard Netflix cancelled altered carbon, so I cancelled my netflix XD, honestly that show was mint... ugh *sad year* hate 2020   \n",
       "9999                                                                                                                                                                                                                                                                                                      Change.org To stop the cancellation of Altered Carbon   \n",
       "\n",
       "      is_spotify  \n",
       "0              1  \n",
       "1              1  \n",
       "2              1  \n",
       "3              1  \n",
       "4              1  \n",
       "...          ...  \n",
       "9993           0  \n",
       "9996           0  \n",
       "9997           0  \n",
       "9998           0  \n",
       "9999           0  \n",
       "\n",
       "[18683 rows x 2 columns]"
      ]
     },
     "execution_count": 148,
     "metadata": {},
     "output_type": "execute_result"
    }
   ],
   "source": [
    "spotify_netflix.drop_duplicates()"
   ]
  },
  {
   "cell_type": "markdown",
   "metadata": {},
   "source": [
    "#### Add text_length and text_word_count columns "
   ]
  },
  {
   "cell_type": "code",
   "execution_count": 149,
   "metadata": {},
   "outputs": [],
   "source": [
    "spotify_netflix['text_length'] = spotify_netflix['text'].str.len()\n",
    "spotify_netflix['text_word_count'] = spotify_netflix['text'].str.split().str.len()"
   ]
  },
  {
   "cell_type": "code",
   "execution_count": 150,
   "metadata": {},
   "outputs": [
    {
     "data": {
      "text/plain": [
       "text               0.0\n",
       "is_spotify         0.0\n",
       "text_length        0.0\n",
       "text_word_count    0.0\n",
       "dtype: float64"
      ]
     },
     "execution_count": 150,
     "metadata": {},
     "output_type": "execute_result"
    }
   ],
   "source": [
    "spotify_netflix[spotify_netflix['text_length'] == 0].sum()"
   ]
  },
  {
   "cell_type": "code",
   "execution_count": 151,
   "metadata": {},
   "outputs": [
    {
     "data": {
      "text/plain": [
       "text               0.0\n",
       "is_spotify         0.0\n",
       "text_length        0.0\n",
       "text_word_count    0.0\n",
       "dtype: float64"
      ]
     },
     "execution_count": 151,
     "metadata": {},
     "output_type": "execute_result"
    }
   ],
   "source": [
    "spotify_netflix[spotify_netflix['text_word_count'] == 0].sum()"
   ]
  },
  {
   "cell_type": "markdown",
   "metadata": {},
   "source": [
    "#### Save spotify_netflix to spotify_netflix.csv"
   ]
  },
  {
   "cell_type": "code",
   "execution_count": 154,
   "metadata": {},
   "outputs": [],
   "source": [
    "spotify_netflix.to_csv('spotify_netflix.csv', index = False)"
   ]
  }
 ],
 "metadata": {
  "kernelspec": {
   "display_name": "Python 3",
   "language": "python",
   "name": "python3"
  },
  "language_info": {
   "codemirror_mode": {
    "name": "ipython",
    "version": 3
   },
   "file_extension": ".py",
   "mimetype": "text/x-python",
   "name": "python",
   "nbconvert_exporter": "python",
   "pygments_lexer": "ipython3",
   "version": "3.8.5"
  }
 },
 "nbformat": 4,
 "nbformat_minor": 4
}
